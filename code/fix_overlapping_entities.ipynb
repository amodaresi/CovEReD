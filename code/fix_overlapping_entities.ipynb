{
 "cells": [
  {
   "cell_type": "code",
   "execution_count": 1,
   "metadata": {},
   "outputs": [],
   "source": [
    "import json, os\n",
    "from datasets import load_dataset"
   ]
  },
  {
   "cell_type": "code",
   "execution_count": 3,
   "metadata": {},
   "outputs": [],
   "source": [
    "SPLIT = \"train\"\n",
    "SAVE_FILEPATH = \"[FILEPATH]\"\n",
    "ds = load_dataset(\"json\", data_files=f\"{SPLIT}_revised.json\", keep_in_memory=True)[\"train\"]"
   ]
  },
  {
   "cell_type": "code",
   "execution_count": 5,
   "metadata": {},
   "outputs": [],
   "source": [
    "def replace(example, v_to_be_replaced, v_replacing):\n",
    "    example[\"vertexSet\"][v_replacing].extend(example[\"vertexSet\"][v_to_be_replaced])\n",
    "    del example[\"vertexSet\"][v_to_be_replaced]\n",
    "    if v_replacing > v_to_be_replaced:\n",
    "        v_replacing -= 1\n",
    "    for r_id in range(len(example[\"labels\"])):\n",
    "        if example[\"labels\"][r_id]['h'] == v_to_be_replaced:\n",
    "            example[\"labels\"][r_id]['h'] = v_replacing\n",
    "        elif example[\"labels\"][r_id]['h'] > v_to_be_replaced:\n",
    "            example[\"labels\"][r_id]['h'] -= 1\n",
    "        if example[\"labels\"][r_id]['t'] == v_to_be_replaced:\n",
    "            example[\"labels\"][r_id]['t'] = v_replacing\n",
    "        elif example[\"labels\"][r_id]['t'] > v_to_be_replaced:\n",
    "            example[\"labels\"][r_id]['t'] -= 1\n",
    "    return example"
   ]
  },
  {
   "cell_type": "code",
   "execution_count": 6,
   "metadata": {},
   "outputs": [],
   "source": [
    "from tqdm.auto import tqdm"
   ]
  },
  {
   "cell_type": "code",
   "execution_count": 7,
   "metadata": {},
   "outputs": [],
   "source": [
    "def remove_alias(example, alias_id, v_to_be_replaced, v_replacing):\n",
    "    del example[\"vertexSet\"][v_to_be_replaced][alias_id]\n",
    "    vertex_del = False\n",
    "    if len(example[\"vertexSet\"][v_to_be_replaced]) == 0:\n",
    "        del example[\"vertexSet\"][v_to_be_replaced]\n",
    "        if v_replacing > v_to_be_replaced:\n",
    "            v_replacing -= 1\n",
    "        for r_id in range(len(example[\"labels\"])):\n",
    "            if example[\"labels\"][r_id]['h'] == v_to_be_replaced:\n",
    "                example[\"labels\"][r_id]['h'] = v_replacing\n",
    "            elif example[\"labels\"][r_id]['h'] > v_to_be_replaced:\n",
    "                example[\"labels\"][r_id]['h'] -= 1\n",
    "            if example[\"labels\"][r_id]['t'] == v_to_be_replaced:\n",
    "                example[\"labels\"][r_id]['t'] = v_replacing\n",
    "            elif example[\"labels\"][r_id]['t'] > v_to_be_replaced:\n",
    "                example[\"labels\"][r_id]['t'] -= 1\n",
    "        vertex_del = True\n",
    "    return example, vertex_del\n",
    "\n",
    "def overlap(a_1, a_2):\n",
    "    if a_1[\"sent_id\"] == a_2[\"sent_id\"]:\n",
    "        if (a_1[\"pos\"][0] <= a_2[\"pos\"][0] and a_2[\"pos\"][0] < a_1[\"pos\"][1]) or (a_2[\"pos\"][0] <= a_1[\"pos\"][0] and a_1[\"pos\"][0] < a_2[\"pos\"][1]):\n",
    "            if a_1[\"pos\"][1] - a_1[\"pos\"][0] > a_2[\"pos\"][1] - a_2[\"pos\"][0]:\n",
    "                return 1\n",
    "            return 2\n",
    "    return 0"
   ]
  },
  {
   "cell_type": "code",
   "execution_count": 8,
   "metadata": {},
   "outputs": [
    {
     "data": {
      "application/vnd.jupyter.widget-view+json": {
       "model_id": "845a9b5327f1419eb17503f3b5fa2fbf",
       "version_major": 2,
       "version_minor": 0
      },
      "text/plain": [
       "  0%|          | 0/500 [00:00<?, ?it/s]"
      ]
     },
     "metadata": {},
     "output_type": "display_data"
    }
   ],
   "source": [
    "new_examples = []\n",
    "for i in tqdm(range(len(ds))):\n",
    "    if i == 872:\n",
    "        pass\n",
    "    example = ds[i]\n",
    "    vs_1_id = 0\n",
    "    vs_2_id = 0\n",
    "    while vs_1_id < len(example[\"vertexSet\"]) and vs_2_id < len(example[\"vertexSet\"]):\n",
    "        if vs_1_id < vs_2_id:\n",
    "            aliases_1 = set([x[\"name\"] for x in example[\"vertexSet\"][vs_1_id]])\n",
    "            aliases_2 = set([x[\"name\"] for x in example[\"vertexSet\"][vs_2_id]])\n",
    "            if len(aliases_1.intersection(aliases_2)) > 0:\n",
    "                if len(example[\"vertexSet\"][vs_1_id]) < len(example[\"vertexSet\"][vs_2_id]):\n",
    "                    example = replace(example, vs_1_id, vs_2_id)\n",
    "                else:\n",
    "                    example = replace(example, vs_2_id, vs_1_id)\n",
    "            else:\n",
    "                vs_2_id += 1\n",
    "                if vs_2_id == len(example[\"vertexSet\"]):\n",
    "                    vs_1_id += 1\n",
    "                    vs_2_id = 0\n",
    "        else:\n",
    "            vs_2_id += 1\n",
    "            if vs_2_id == len(example[\"vertexSet\"]):\n",
    "                vs_1_id += 1\n",
    "                vs_2_id = 0\n",
    "\n",
    "    vs_1_id = 0\n",
    "    vs_2_id = 0\n",
    "    while vs_1_id < len(example[\"vertexSet\"]) and vs_2_id < len(example[\"vertexSet\"]):\n",
    "        if vs_1_id <= vs_2_id:\n",
    "            aid_1 = 0\n",
    "            aid_2 = 0\n",
    "            delta = False\n",
    "            while aid_1 < len(example[\"vertexSet\"][vs_1_id]) and aid_2 < len(example[\"vertexSet\"][vs_2_id]):\n",
    "                overlap_res = overlap(example[\"vertexSet\"][vs_1_id][aid_1], example[\"vertexSet\"][vs_2_id][aid_2])\n",
    "                if overlap_res == 0 or (vs_1_id == vs_2_id and aid_1 <= aid_2):\n",
    "                    aid_1 += 1\n",
    "                    if aid_1 == len(example[\"vertexSet\"][vs_1_id]):\n",
    "                        aid_1 = 0\n",
    "                        aid_2 += 1\n",
    "                    continue\n",
    "                if overlap_res == 1:\n",
    "                    example, vertex_del = remove_alias(example, aid_2, vs_2_id, vs_1_id)\n",
    "                    delta = True\n",
    "                else:\n",
    "                    example, vertex_del = remove_alias(example, aid_1, vs_1_id, vs_2_id)\n",
    "                    delta = True\n",
    "                if vertex_del:\n",
    "                    break\n",
    "            if not delta:\n",
    "                vs_2_id += 1\n",
    "                if vs_2_id == len(example[\"vertexSet\"]):\n",
    "                    vs_1_id += 1\n",
    "                    vs_2_id = 0\n",
    "        else:\n",
    "            vs_2_id += 1\n",
    "            if vs_2_id == len(example[\"vertexSet\"]):\n",
    "                vs_1_id += 1\n",
    "                vs_2_id = 0\n",
    "    \n",
    "    new_examples.append(example)"
   ]
  },
  {
   "cell_type": "code",
   "execution_count": 9,
   "metadata": {},
   "outputs": [],
   "source": [
    "for ex in new_examples:\n",
    "    vs_count = len(ex[\"vertexSet\"])\n",
    "    assert vs_count > 0\n",
    "    for vs in ex[\"vertexSet\"]:\n",
    "        assert len(vs) > 0\n",
    "    for rel in ex[\"labels\"]:\n",
    "        assert rel[\"h\"] < vs_count\n",
    "        assert rel[\"t\"] < vs_count"
   ]
  },
  {
   "cell_type": "code",
   "execution_count": 10,
   "metadata": {},
   "outputs": [],
   "source": [
    "with open(os.path.join(SAVE_FILEPATH, f\"{SPLIT}_revised_entFix.json\"), \"w\") as f:\n",
    "    json.dump(new_examples, f)"
   ]
  }
 ],
 "metadata": {
  "kernelspec": {
   "display_name": "lora-mem",
   "language": "python",
   "name": "python3"
  },
  "language_info": {
   "codemirror_mode": {
    "name": "ipython",
    "version": 3
   },
   "file_extension": ".py",
   "mimetype": "text/x-python",
   "name": "python",
   "nbconvert_exporter": "python",
   "pygments_lexer": "ipython3",
   "version": "3.11.3"
  }
 },
 "nbformat": 4,
 "nbformat_minor": 2
}
